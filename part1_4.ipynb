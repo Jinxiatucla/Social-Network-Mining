{
 "cells": [
  {
   "cell_type": "code",
   "execution_count": 1,
   "metadata": {},
   "outputs": [
    {
     "name": "stderr",
     "output_type": "stream",
     "text": [
      "\n",
      "Attaching package: ‘igraph’\n",
      "\n",
      "The following objects are masked from ‘package:stats’:\n",
      "\n",
      "    decompose, spectrum\n",
      "\n",
      "The following object is masked from ‘package:base’:\n",
      "\n",
      "    union\n",
      "\n"
     ]
    }
   ],
   "source": [
    "library(igraph)"
   ]
  },
  {
   "cell_type": "code",
   "execution_count": 61,
   "metadata": {},
   "outputs": [
    {
     "name": "stdout",
     "output_type": "stream",
     "text": [
      "[1] 11\n",
      " [1]  31  53  75  90  93 102 118 133 134 136 137\n"
     ]
    }
   ],
   "source": [
    "g <- read_graph(\"facebook_combined.txt\", format = \"edgelist\", directed = FALSE)\n",
    "person_network <- induced_subgraph(g,c(415, neighbors(g,415)))\n",
    "\n",
    "index <- 1\n",
    "Nr <- c()\n",
    "for(i in 1:vcount(person_network)){\n",
    "    if(degree(person_network, v=i, mode = \"total\", normalized=FALSE)==24){\n",
    "        Nr[index] = i\n",
    "        index <- index + 1\n",
    "    }\n",
    "        \n",
    "}\n",
    "print(length(Nr))\n",
    "print(Nr)"
   ]
  },
  {
   "cell_type": "code",
   "execution_count": 90,
   "metadata": {
    "scrolled": true
   },
   "outputs": [
    {
     "name": "stdout",
     "output_type": "stream",
     "text": [
      "[1] \"common 0.849356779584052\"\n",
      "[1] \"jaccard 0.810156989475171\"\n",
      "[1] \"adamic 0.835850286077559\"\n"
     ]
    }
   ],
   "source": [
    "find_t_value = function(vec, t){\n",
    "    index <- which(vec >= sort(vec,decreasing=T)[t], arr.ind=TRUE)\n",
    "    return (index)\n",
    "}\n",
    "\n",
    "\n",
    "\n",
    "common_total = numeric(length(Nr))\n",
    "jaccard_total = numeric(length(Nr))\n",
    "adamic_total = numeric(length(Nr))\n",
    "\n",
    "for (i in 1:length(Nr)){\n",
    "    cur_node = Nr[i]\n",
    "    \n",
    "    for (iter in 1:10){\n",
    "        person_network_tmp <- person_network        \n",
    "        ngbrs_ <- ego(person_network_tmp, 1, cur_node, mode = \"all\")\n",
    "        ngbrs <- c(ngbrs_[[1]])\n",
    "        \n",
    "        #delete with 0.25\n",
    "        R_i <- c()\n",
    "        index <- 1\n",
    "        for (ngbr in ngbrs[2:length(ngbrs)]){\n",
    "            if(runif(1, min = 0, max = 1) <= 0.25){\n",
    "                R_i[index] <- ngbr  \n",
    "                index <- index + 1\n",
    "                person_network_tmp <- delete_edges(person_network_tmp,paste(ngbr,'|',cur_node))             \n",
    "            }\n",
    "        }\n",
    "        \n",
    "        i_ngbrs_ <- ego(person_network_tmp, 1, cur_node, mode = \"all\")\n",
    "        i_ngbrs <- c(i_ngbrs_[[1]])\n",
    "        \n",
    "        common <- numeric(vcount(person_network))\n",
    "        jaccard <- numeric(vcount(person_network))\n",
    "        adamic <- numeric(vcount(person_network))\n",
    "        for (j in 1:vcount(person_network)){\n",
    "            j_ngbrs_ <- ego(person_network_tmp, 1, j, mode = \"all\")\n",
    "            j_ngbrs <- c(j_ngbrs_[[1]])\n",
    "            \n",
    "            if(!(j %in% i_ngbrs)){\n",
    "                common[j]<-length(intersect(i_ngbrs,j_ngbrs))\n",
    "                jaccard[j]<-length(intersect(i_ngbrs,j_ngbrs))/length(union(i_ngbrs,j_ngbrs))\n",
    "                \n",
    "                for(k in intersect(i_ngbrs,j_ngbrs)){\n",
    "                    adamic[j] <- adamic[j] + 1/log((ego_size(person_network_tmp, 1, k, mode = \"all\")))\n",
    "                }\n",
    "                \n",
    "                \n",
    "            }\n",
    "        }\n",
    "        \n",
    "        \n",
    "        common_total[i] <- common_total[i]+length(intersect(find_t_value(common,length(R_i)),R_i))/length(R_i)\n",
    "        jaccard_total[i] <- jaccard_total[i]+length(intersect(find_t_value(jaccard,length(R_i)),R_i))/length(R_i)\n",
    "        adamic_total[i] <- adamic_total[i]+length(intersect(find_t_value(adamic,length(R_i)),R_i))/length(R_i)\n",
    "    }\n",
    "}\n",
    "\n",
    "\n",
    "\n",
    "print(paste(\"common\",mean(common_total)/10))\n",
    "print(paste(\"jaccard\",mean(jaccard_total)/10))\n",
    "print(paste(\"adamic\",mean(adamic_total)/10))"
   ]
  },
  {
   "cell_type": "code",
   "execution_count": 89,
   "metadata": {},
   "outputs": [
    {
     "data": {
      "text/html": [
       "<ol class=list-inline>\n",
       "\t<li>0</li>\n",
       "\t<li>0</li>\n",
       "\t<li>0</li>\n",
       "</ol>\n"
      ],
      "text/latex": [
       "\\begin{enumerate*}\n",
       "\\item 0\n",
       "\\item 0\n",
       "\\item 0\n",
       "\\end{enumerate*}\n"
      ],
      "text/markdown": [
       "1. 0\n",
       "2. 0\n",
       "3. 0\n",
       "\n",
       "\n"
      ],
      "text/plain": [
       "[1] 0 0 0"
      ]
     },
     "metadata": {},
     "output_type": "display_data"
    }
   ],
   "source": [
    "numeric(3)"
   ]
  },
  {
   "cell_type": "code",
   "execution_count": 78,
   "metadata": {},
   "outputs": [
    {
     "data": {
      "text/html": [
       "<ol class=list-inline>\n",
       "\t<li>1</li>\n",
       "\t<li>2</li>\n",
       "\t<li>3</li>\n",
       "</ol>\n"
      ],
      "text/latex": [
       "\\begin{enumerate*}\n",
       "\\item 1\n",
       "\\item 2\n",
       "\\item 3\n",
       "\\end{enumerate*}\n"
      ],
      "text/markdown": [
       "1. 1\n",
       "2. 2\n",
       "3. 3\n",
       "\n",
       "\n"
      ],
      "text/plain": [
       "[1] 1 2 3"
      ]
     },
     "metadata": {},
     "output_type": "display_data"
    }
   ],
   "source": [
    "find_t_value(c(7,6,5,4,3,2,1),3)"
   ]
  },
  {
   "cell_type": "code",
   "execution_count": 83,
   "metadata": {},
   "outputs": [
    {
     "data": {
      "text/html": [
       "TRUE"
      ],
      "text/latex": [
       "TRUE"
      ],
      "text/markdown": [
       "TRUE"
      ],
      "text/plain": [
       "[1] TRUE"
      ]
     },
     "metadata": {},
     "output_type": "display_data"
    }
   ],
   "source": [
    "(3 %in% 2:6)"
   ]
  },
  {
   "cell_type": "code",
   "execution_count": 85,
   "metadata": {},
   "outputs": [
    {
     "data": {
      "text/html": [
       "&lt;NA&gt;"
      ],
      "text/latex": [
       "<NA>"
      ],
      "text/markdown": [
       "&lt;NA&gt;"
      ],
      "text/plain": [
       "[1] NA"
      ]
     },
     "metadata": {},
     "output_type": "display_data"
    }
   ],
   "source": [
    "a = numeric()\n",
    "a[1]"
   ]
  },
  {
   "cell_type": "code",
   "execution_count": null,
   "metadata": {},
   "outputs": [],
   "source": []
  }
 ],
 "metadata": {
  "kernelspec": {
   "display_name": "R",
   "language": "R",
   "name": "ir"
  },
  "language_info": {
   "codemirror_mode": "r",
   "file_extension": ".r",
   "mimetype": "text/x-r-source",
   "name": "R",
   "pygments_lexer": "r",
   "version": "3.4.4"
  }
 },
 "nbformat": 4,
 "nbformat_minor": 2
}
