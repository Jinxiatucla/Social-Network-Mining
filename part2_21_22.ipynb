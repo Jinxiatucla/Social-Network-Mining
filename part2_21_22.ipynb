{
 "cells": [
  {
   "cell_type": "code",
   "execution_count": 326,
   "metadata": {},
   "outputs": [],
   "source": [
    "library(igraph)"
   ]
  },
  {
   "cell_type": "code",
   "execution_count": 327,
   "metadata": {},
   "outputs": [],
   "source": [
    "#build personal networks \n",
    "createnet <- function(node_id ){\n",
    "        filename <- paste('./gplus/',node_id,'.edges',sep = \"\")\n",
    "        print(filename)\n",
    "        g <- read.graph(filename,format = 'ncol', directed=TRUE)\n",
    "        g <- add_vertices(g, nv=1, name = node_id)\n",
    "        new_edges = c()\n",
    "        for (id in 1:(vcount(g)-1)){\n",
    "            new_edges <- c(new_edges, c(vcount(g), id))\n",
    "        }\n",
    "        \n",
    "        #print(vcount(g))\n",
    "        g <- add_edges(g, new_edges)\n",
    "        return (g)\n",
    "}\n",
    "\n",
    "\n"
   ]
  },
  {
   "cell_type": "code",
   "execution_count": 328,
   "metadata": {},
   "outputs": [
    {
     "name": "stdout",
     "output_type": "stream",
     "text": [
      "[1] \"./gplus/109327480479767108490.edges\"\n",
      "[1] \"./gplus/115625564993990145546.edges\"\n",
      "[1] \"./gplus/101373961279443806744.edges\"\n"
     ]
    }
   ],
   "source": [
    "g1 <- createnet(node_id = '109327480479767108490')\n",
    "g2 <- createnet(node_id = '115625564993990145546')\n",
    "g3 <- createnet(node_id = '101373961279443806744')"
   ]
  },
  {
   "cell_type": "code",
   "execution_count": 329,
   "metadata": {},
   "outputs": [],
   "source": [
    "# return c(unique number N in circles, length of circle file, vertex in circle file)\n",
    "countN <- function(node_id){\n",
    "    filename <- paste('./gplus/',node_id,'.circles',sep = \"\")\n",
    "    circles <- file(filename, 'r')\n",
    "    circle_lines <- readLines(circles)\n",
    "    c_vertex = c()\n",
    "    for (i in 1:length(circle_lines)){\n",
    "        match <- gregexpr('[0-9]{21}', circle_lines[i])\n",
    "        matches <- regmatches(circle_lines[i], match)\n",
    "        #print(length((matches)[[1]]))\n",
    "        for (j in 1:length((matches)[[1]])){\n",
    "            c_vertex <- c(c_vertex, matches[[1]][j])\n",
    "        }\n",
    "        #print(length(c_vertex))\n",
    "    }\n",
    "    #print(length(unique(c_vertex)))\n",
    "    return (c((length(unique(c_vertex))), length(c_vertex), c_vertex))\n",
    "}\n",
    "\n",
    "N1 <- countN('109327480479767108490')[1]\n",
    "N2  <- countN('115625564993990145546')[1]\n",
    "N3  <- countN('101373961279443806744')[1]\n",
    "\n",
    "L1 <- countN('109327480479767108490')[2]\n",
    "v1 <- countN('109327480479767108490')[3:L1 + 2]\n",
    "\n",
    "L2 <- countN('115625564993990145546')[2]\n",
    "v2 <- countN('115625564993990145546')[3:L2 + 2]\n",
    "\n",
    "L3 <- countN('101373961279443806744')[2]\n",
    "v3 <- countN('101373961279443806744')[3:L3 + 2]\n"
   ]
  },
  {
   "cell_type": "code",
   "execution_count": 330,
   "metadata": {},
   "outputs": [],
   "source": [
    "#calculate H(C)\n",
    "hc <- function(node_id, N){\n",
    "    filename <- paste('./gplus/',node_id,'.circles',sep = \"\")\n",
    "    circles <- file(filename, 'r')\n",
    "    circle_lines <- readLines(circles)\n",
    "    sum = 0;\n",
    "    for(i in 1:length(circle_lines)){\n",
    "        match <- gregexpr('[0-9]{21}', circle_lines[i])\n",
    "        matches <- regmatches(circle_lines[i], match)\n",
    "        ai = length((matches)[[1]])\n",
    "        #print(ai)\n",
    "        N <- as.numeric(N)\n",
    "        sum = sum - ai/N*log10(ai/N)\n",
    "    }\n",
    "    return (sum)\n",
    "}\n",
    "\n",
    "    "
   ]
  },
  {
   "cell_type": "code",
   "execution_count": 331,
   "metadata": {},
   "outputs": [],
   "source": [
    "hc1 <- hc('109327480479767108490',N1)\n",
    "hc2 <- hc('115625564993990145546',N2)\n",
    "hc3 <- hc('101373961279443806744',N3)"
   ]
  },
  {
   "cell_type": "code",
   "execution_count": 359,
   "metadata": {},
   "outputs": [
    {
     "name": "stdout",
     "output_type": "stream",
     "text": [
      "[1] 0.4563477\n",
      "[1] 3.676366\n",
      "[1] 0.166908\n"
     ]
    }
   ],
   "source": [
    "print(hc1)\n",
    "print(hc2)\n",
    "print(hc3)"
   ]
  },
  {
   "cell_type": "code",
   "execution_count": 355,
   "metadata": {},
   "outputs": [],
   "source": [
    "community1 <- cluster_walktrap(g1)\n",
    "community2 <- cluster_walktrap(g2)\n",
    "community3 <- cluster_walktrap(g3)\n",
    "\n",
    "#store community members into vectors\n",
    "community_vector <- function(community){\n",
    "    #store community memmber into a vector\n",
    "    m = c()\n",
    "    for(i in 1:length((membership(community)))){ m = c(m, (membership(community))[i])}\n",
    "    #calculate number of cluster\n",
    "    L_comm = length(m)\n",
    "    c_cluster = c()\n",
    "    for(i in 1:L_comm){\n",
    "        c_cluster = c(c_cluster, m[[i]])\n",
    "        cluster_number = length(unique(c_cluster))\n",
    "    }\n",
    "    #print(cluster_number)\n",
    "    #store vertexs into each cluster\n",
    "    mylist <- list()\n",
    "    for(k in 1:cluster_number){\n",
    "        mylist[[paste('vector_', k, sep = \"\")]] <- c() \n",
    "    }\n",
    "    #print(mylist)\n",
    "    \n",
    "    v = c()\n",
    "    for(j in 1:L_comm){\n",
    "        match <- gregexpr('[0-9]{21}', m[j])\n",
    "        matches <- regmatches(m[j], match)\n",
    "        for(k in 1:cluster_number){\n",
    "            if (m[[j]] == k){               \n",
    "                mylist[[paste('vector_', k, sep = \"\")]] <- c(mylist[[paste('vector_', k, sep = \"\")]],matches) \n",
    "                                                             \n",
    "            }\n",
    "        }\n",
    "        #print(matches)\n",
    "        \n",
    "    }\n",
    "    #print(mylist)\n",
    "    return (mylist)\n",
    "}\n",
    "\n",
    "\n",
    "cv1 <- community_vector(community1)\n",
    "cv2 <- community_vector(community2)\n",
    "cv3 <- community_vector(community3)\n",
    "\n"
   ]
  },
  {
   "cell_type": "code",
   "execution_count": 356,
   "metadata": {},
   "outputs": [],
   "source": [
    "#calculate H(K)\n",
    "hk <- function(community_list, N, circle_ver){\n",
    "    #print(circle_lines[3])\n",
    "    sum = 0\n",
    "    #print(length(community_list))\n",
    "    for(i in 1:length(community_list)){\n",
    "        com_vec = names(community_list[[paste('vector_', i, sep = \"\")]])\n",
    "        community_vec = c()\n",
    "        for( n in com_vec){ community_vec <- c(community_vec, n)}        \n",
    "        inter <- intersect(community_vec,circle_ver)\n",
    "        bi <- length(inter)\n",
    "        #print(bi)\n",
    "        #bi <-  as.numeric(bi)\n",
    "        N <- as.numeric(N)\n",
    "        if(bi==0){ \n",
    "            sum = sum\n",
    "        }else{sum = sum - bi/N*log10(bi/N)}       \n",
    "    }\n",
    "    return (sum)    \n",
    "}\n",
    "\n",
    "hk1 <- hk(cv1,N1, v1 )\n",
    "hk2 <- hk(cv2,N2, v2 )\n",
    "hk3 <- hk(cv3,N3, v3 )"
   ]
  },
  {
   "cell_type": "code",
   "execution_count": 358,
   "metadata": {},
   "outputs": [
    {
     "name": "stdout",
     "output_type": "stream",
     "text": [
      "[1] 0.4365564\n",
      "[1] 0.4695553\n",
      "[1] 0.2142508\n"
     ]
    }
   ],
   "source": [
    "print(hk1)\n",
    "print(hk2)\n",
    "print(hk3)"
   ]
  },
  {
   "cell_type": "code",
   "execution_count": 383,
   "metadata": {},
   "outputs": [],
   "source": [
    "hck <- function(N,cv, v, node_id){\n",
    "    filename <- paste('./gplus/',node_id,'.circles',sep = \"\")\n",
    "    circles <- file(filename, 'r')\n",
    "    circle_lines <- readLines(circles)\n",
    "    sum = 0\n",
    "    for(j in 1:length(cv)){\n",
    "        #for each community\n",
    "        com_vec = names(cv[[paste('vector_', j, sep = \"\")]])\n",
    "        community_vec = c()\n",
    "        for( n in com_vec){ community_vec <- c(community_vec, n)} \n",
    "        N <- as.numeric(N)\n",
    "        #calculate bj\n",
    "        inter <- intersect(community_vec,v)\n",
    "        bj <- length(inter)\n",
    "        \n",
    "        \n",
    "        #for each circle\n",
    "        for(i in 1:length(circle_lines)){\n",
    "            #output vertex vector in each circle\n",
    "            c_vertex <- c()\n",
    "            match <- gregexpr('[0-9]{21}', circle_lines[i])\n",
    "            matches <- regmatches(circle_lines[i], match)\n",
    "            for (k in 1:length((matches)[[1]])){\n",
    "                 c_vertex <- c(c_vertex, matches[[1]][k])\n",
    "            }\n",
    "            #intersection of community j and circle i\n",
    "            interji <- intersect(community_vec,c_vertex)\n",
    "            cji <- length(interji)\n",
    "            if(cji == 0){\n",
    "                sum = sum\n",
    "            }else{\n",
    "                sum = sum - cji/N*log10(cji/bj)}\n",
    "                 \n",
    "        }\n",
    "        \n",
    "    }\n",
    "    return(sum)\n",
    "}\n",
    "\n",
    "hck1 <- hck(N1,cv1,v1,'109327480479767108490' )\n",
    "hck2 <- hck(N2,cv2,v2,'115625564993990145546' )\n",
    "hck3 <- hck(N3,cv3,v3,'101373961279443806744' )"
   ]
  },
  {
   "cell_type": "code",
   "execution_count": 384,
   "metadata": {},
   "outputs": [
    {
     "name": "stdout",
     "output_type": "stream",
     "text": [
      "[1] 0.06759188\n",
      "[1] 2.015052\n",
      "[1] 0.1662627\n"
     ]
    }
   ],
   "source": [
    "print(hck1)\n",
    "print(hck2)\n",
    "print(hck3)"
   ]
  },
  {
   "cell_type": "code",
   "execution_count": 386,
   "metadata": {},
   "outputs": [],
   "source": [
    "hkc <- function(N,cv, v, node_id){\n",
    "    filename <- paste('./gplus/',node_id,'.circles',sep = \"\")\n",
    "    circles <- file(filename, 'r')\n",
    "    circle_lines <- readLines(circles)\n",
    "    sum = 0\n",
    "    for(i in 1:length(circle_lines)){\n",
    "       c_vertex <- c()\n",
    "       match <- gregexpr('[0-9]{21}', circle_lines[i])\n",
    "       matches <- regmatches(circle_lines[i], match)\n",
    "       ai = length((matches)[[1]])\n",
    "       for (k in 1:length((matches)[[1]])){\n",
    "            c_vertex <- c(c_vertex, matches[[1]][k])\n",
    "       } \n",
    "       for(j in 1:length(cv)){\n",
    "        #for each community\n",
    "        com_vec = names(cv[[paste('vector_', j, sep = \"\")]])\n",
    "        community_vec = c()\n",
    "        for( n in com_vec){ community_vec <- c(community_vec, n)} \n",
    "        N <- as.numeric(N)\n",
    "        #intersection of community j and circle i\n",
    "        interji <- intersect(community_vec,c_vertex)\n",
    "        cji <- length(interji)\n",
    "        if(cji == 0){\n",
    "                sum = sum\n",
    "        }else{\n",
    "                sum = sum - cji/N*log10(cji/ai)}\n",
    "        \n",
    "        \n",
    "       }\n",
    "    \n",
    "    }\n",
    "    return(sum)\n",
    "}\n",
    "\n",
    "hkc1 <- hkc(N1,cv1,v1,'109327480479767108490' )\n",
    "hkc2 <- hkc(N2,cv2,v2,'115625564993990145546' )\n",
    "hkc3 <- hkc(N3,cv3,v3,'101373961279443806744' )"
   ]
  },
  {
   "cell_type": "code",
   "execution_count": 387,
   "metadata": {},
   "outputs": [
    {
     "name": "stdout",
     "output_type": "stream",
     "text": [
      "[1] 0.2925478\n",
      "[1] 2.077295\n",
      "[1] 0.536535\n"
     ]
    }
   ],
   "source": [
    "print(hkc1)\n",
    "print(hkc2)\n",
    "print(hkc3)"
   ]
  },
  {
   "cell_type": "code",
   "execution_count": 391,
   "metadata": {},
   "outputs": [],
   "source": [
    "h1 <- (1 - hck1/hc1)\n",
    "h2 <- (1 - hck2/hc2)\n",
    "h3 <- (1 - hck3/hc3)\n",
    "c1 <- (1 - hkc1/hk1)\n",
    "c2 <- (1 - hkc2/hk2)\n",
    "c3 <- (1 - hkc3/hk3)\n"
   ]
  },
  {
   "cell_type": "code",
   "execution_count": 393,
   "metadata": {},
   "outputs": [
    {
     "name": "stdout",
     "output_type": "stream",
     "text": [
      "[1] 0.8518851\n",
      "[1] 0.3298739\n",
      "[1] 0.4518903\n",
      "[1] -3.423962\n",
      "[1] 0.003866707\n",
      "[1] -1.504238\n"
     ]
    }
   ],
   "source": [
    "print(h1)\n",
    "print(c1)\n",
    "\n",
    "print(h2)\n",
    "print(c2)\n",
    "\n",
    "print(h3)\n",
    "print(c3)\n",
    "\n"
   ]
  },
  {
   "cell_type": "code",
   "execution_count": null,
   "metadata": {},
   "outputs": [],
   "source": []
  }
 ],
 "metadata": {
  "kernelspec": {
   "display_name": "R",
   "language": "R",
   "name": "ir"
  },
  "language_info": {
   "codemirror_mode": "r",
   "file_extension": ".r",
   "mimetype": "text/x-r-source",
   "name": "R",
   "pygments_lexer": "r",
   "version": "3.4.3"
  }
 },
 "nbformat": 4,
 "nbformat_minor": 2
}
